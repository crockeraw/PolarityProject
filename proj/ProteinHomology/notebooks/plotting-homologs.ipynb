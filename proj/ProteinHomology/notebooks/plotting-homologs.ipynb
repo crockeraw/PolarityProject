{
 "cells": [
  {
   "cell_type": "code",
   "execution_count": 53,
   "metadata": {},
   "outputs": [
    {
     "data": {
      "text/plain": [
       "Text(513.0, 2, 'PB1')"
      ]
     },
     "execution_count": 53,
     "metadata": {},
     "output_type": "execute_result"
    },
    {
     "data": {
      "image/png": "[encoded data removed]",
      "text/plain": [
       "<Figure size 600x200 with 1 Axes>"
      ]
     },
     "metadata": {},
     "output_type": "display_data"
    }
   ],
   "source": [
    "import matplotlib.pyplot as plt\n",
    "import matplotlib\n",
    "import numpy as np\n",
    "\n",
    "\n",
    "fig, ax = plt.subplots(figsize=(6, 2))\n",
    "ax.spines['top'].set_visible(False)\n",
    "ax.spines['right'].set_visible(False)\n",
    "ax.spines['bottom'].set_visible(True)\n",
    "ax.spines['left'].set_visible(False)\n",
    "# ax.get_xaxis().set_ticks([])\n",
    "ax.get_yaxis().set_ticks([])\n",
    "ax.text(-60,0,s=\"nt\", va=\"center\")\n",
    "#ApBem1\n",
    "seq_len = 583\n",
    "ax.plot(np.arange(seq_len), np.ones(seq_len))\n",
    "plt.text(-100,1, s=\"ApBem1\", va=\"center\")\n",
    "ax.set_ylim(0,3)\n",
    "feat = \"SH3\"\n",
    "start=33\n",
    "stop=91\n",
    "ax.plot(np.arange(start=start, stop=stop), np.ones(stop-start), linewidth=12)\n",
    "ax.text((stop+start)/2, 1, s=feat, ha=\"center\", va=\"center\")\n",
    "feat = \"SH3\"\n",
    "start=140\n",
    "stop=196\n",
    "ax.plot(np.arange(start=start, stop=stop), np.ones(stop-start), linewidth=12)\n",
    "ax.text((stop+start)/2, 1, s=feat, ha=\"center\", va=\"center\")\n",
    "feat = \"PX\"\n",
    "start=292\n",
    "stop=400\n",
    "ax.plot(np.arange(start=start, stop=stop), np.ones(stop-start), linewidth=12)\n",
    "ax.text((stop+start)/2, 1, s=feat, ha=\"center\", va=\"center\")\n",
    "# feat = \"PB1*\"\n",
    "# start=490\n",
    "# stop=580\n",
    "# ax.plot(np.arange(start=start, stop=stop), np.ones(stop-start), linewidth=12)\n",
    "# ax.text((stop+start)/2, 1, s=feat, ha=\"center\", va=\"center\")\n",
    "#ScBem1\n",
    "ax.set_prop_cycle(None)\n",
    "seq_len = 551\n",
    "ax.plot(np.arange(seq_len), np.ones(seq_len)*2)\n",
    "plt.text(-100,2, s=\"ScBem1\", va=\"center\")\n",
    "feat = \"SH3\"\n",
    "start=75\n",
    "stop=127\n",
    "ax.plot(np.arange(start=start, stop=stop), np.ones(stop-start)*2, linewidth=12)\n",
    "ax.text((stop+start)/2, 2, s=feat, ha=\"center\", va=\"center\")\n",
    "feat = \"SH3\"\n",
    "start=158\n",
    "stop=214\n",
    "ax.plot(np.arange(start=start, stop=stop), np.ones(stop-start)*2, linewidth=12)\n",
    "ax.text((stop+start)/2, 2, s=feat, ha=\"center\", va=\"center\")\n",
    "feat = \"PX\"\n",
    "start=283\n",
    "stop=400\n",
    "ax.plot(np.arange(start=start, stop=stop), np.ones(stop-start)*2, linewidth=12)\n",
    "ax.text((stop+start)/2, 2, s=feat, ha=\"center\", va=\"center\")\n",
    "feat = \"PB1\"\n",
    "start=477\n",
    "stop=549\n",
    "ax.plot(np.arange(start=start, stop=stop), np.ones(stop-start)*2, linewidth=12)\n",
    "ax.text((stop+start)/2, 2, s=feat, ha=\"center\", va=\"center\")\n"
   ]
  },
  {
   "cell_type": "code",
   "execution_count": 9,
   "metadata": {},
   "outputs": [
    {
     "data": {
      "text/plain": [
       "array([[ nan,  33.,  91.,  nan,   0.,  nan],\n",
       "       [ nan, 140., 196.,  nan,   0.,  nan],\n",
       "       [ nan, 292., 400.,  nan,   0.,  nan]])"
      ]
     },
     "execution_count": 9,
     "metadata": {},
     "output_type": "execute_result"
    }
   ],
   "source": [
    "np.genfromtxt(\"../annotations/ApBem1_Features.BED\")"
   ]
  },
  {
   "cell_type": "code",
   "execution_count": 34,
   "metadata": {},
   "outputs": [],
   "source": [
    "import pandas as pd\n",
    "#header=[\"gene\", \"start\", \"stop\", \"domain\", \"misc\", \"junk\"]\n",
    "df = pd.read_csv(\"../annotations/ApBem1_Features.BED\", sep=\"\\t\", header=None)"
   ]
  },
  {
   "cell_type": "code",
   "execution_count": 59,
   "metadata": {},
   "outputs": [
    {
     "name": "stdout",
     "output_type": "stream",
     "text": [
      "SH3\n",
      "SH3_Bem1p_2\n",
      "PX_Bem1p\n"
     ]
    }
   ],
   "source": [
    "for index, row in df.iterrows():\n",
    "    print(row[3])"
   ]
  },
  {
   "cell_type": "code",
   "execution_count": 63,
   "metadata": {},
   "outputs": [
    {
     "data": {
      "image/png": "[encoded data removed]",
      "text/plain": [
       "<Figure size 1600x200 with 1 Axes>"
      ]
     },
     "metadata": {},
     "output_type": "display_data"
    }
   ],
   "source": [
    "seq_name = \"ApBem1\"\n",
    "seq_len = 583\n",
    "\n",
    "fig, ax = plt.subplots(figsize=(16, 2))\n",
    "ax.set_ylim(0,3)\n",
    "ax.spines['top'].set_visible(False)\n",
    "ax.spines['right'].set_visible(False)\n",
    "ax.spines['bottom'].set_visible(True)\n",
    "ax.spines['left'].set_visible(False)\n",
    "# ax.get_xaxis().set_ticks([])\n",
    "ax.get_yaxis().set_ticks([])\n",
    "ax.text(-60,0,s=\"nt\", va=\"center\")\n",
    "ax.plot(np.arange(seq_len), np.ones(seq_len))\n",
    "plt.text(-100,1, s=seq_name, va=\"center\")\n",
    "for index, row in df.iterrows():\n",
    "    feat = row[3]\n",
    "    start= row[1]\n",
    "    stop= row[2]\n",
    "    ax.plot(np.arange(start=start, stop=stop), np.ones(stop-start), linewidth=20)\n",
    "    ax.text((stop+start)/2, 1, s=feat, ha=\"center\", va=\"center\")"
   ]
  },
  {
   "cell_type": "code",
   "execution_count": null,
   "metadata": {},
   "outputs": [],
   "source": []
  }
 ],
 "metadata": {
  "kernelspec": {
   "display_name": "Python 3",
   "language": "python",
   "name": "python3"
  },
  "language_info": {
   "codemirror_mode": {
    "name": "ipython",
    "version": 3
   },
   "file_extension": ".py",
   "mimetype": "text/x-python",
   "name": "python",
   "nbconvert_exporter": "python",
   "pygments_lexer": "ipython3",
   "version": "3.10.12"
  }
 },
 "nbformat": 4,
 "nbformat_minor": 2
}
