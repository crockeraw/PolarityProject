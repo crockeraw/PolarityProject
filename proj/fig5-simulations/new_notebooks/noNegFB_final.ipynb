{
 "cells": [
  {
   "cell_type": "code",
   "execution_count": null,
   "metadata": {},
   "outputs": [],
   "source": [
    "using DifferentialEquations\n",
    "using ModelingToolkit\n",
    "using LinearAlgebra\n",
    "using Plots\n",
    "using Colors\n",
    "using Images\n",
    "using Statistics\n",
    "using Sundials\n",
    "using Random\n",
    "using JLD2\n",
    "using DSP\n",
    "mpl = PythonPlot.pyimport(\"matplotlib\")\n",
    "mpl.rcParams[\"svg.fonttype\"] = \"none\""
   ]
  },
  {
   "cell_type": "code",
   "execution_count": null,
   "metadata": {},
   "outputs": [],
   "source": [
    "function setup(r) # r specifies radius of simulated spherical cell\n",
    "    # Generate constants\n",
    "    N = 100\n",
    "    SA = 4*pi*r^2\n",
    "    V = (4/3)*pi*r^3\n",
    "    mem_thickness = 0.01\n",
    "    n = (mem_thickness * SA) / V\n",
    "\n",
    "    Ax = Array(Tridiagonal([1.0 for i in 1:N-1],[-2.0 for i in 1:N],[1.0 for i in 1:N-1]))\n",
    "    Ax[1,end] = 1.0\n",
    "    Ax[end,1] = 1.0\n",
    "    dx = (r*sqrt(pi))/N\n",
    "    Ax = Ax/(dx^2) # adjust for 1/microns\n",
    "    Ay = copy(Ax)\n",
    "\n",
    "    r0 = zeros(100,100,6)\n",
    "    r0[:,:,1] .= 5 .*(rand.())   # Cdc42-GTPm\n",
    "    #r0[50,50,1] = 500 # optionally seed polarity sites\n",
    "    r0[:,:,2] .= 0.5 - mean(r0[:,:,1])*n   # Cdc42-GDPm should be 0.5\n",
    "    #r0[:,:,3] .= 1 # removed pak entirely\n",
    "    r0[:,:,4] .= 10 .*(rand.())\n",
    "    #r0[:,:,5] .= 1 # removed pak entirely\n",
    "    r0[:,:,6] .= 0.5 # 0.75\n",
    "    \n",
    "    # Dummy parameters used to prevent reallocation on each fxn call\n",
    "    Ayt = zeros(N,N)\n",
    "    tAx = zeros(N,N)\n",
    "    D42t = zeros(N,N)\n",
    "    D42d = zeros(N,N)\n",
    "    Dpak = zeros(N,N)\n",
    "    Dgef = zeros(N,N)\n",
    "    Dpakc = zeros(N,N)\n",
    "    Dgefc = zeros(N,N)\n",
    "    R = zeros(N,N)\n",
    "    dummy = (Ayt, tAx, D42t, D42d, Dpak, Dgef, Dpakc, Dgefc, R)\n",
    "    # Actual parameters\n",
    "    a = .8\n",
    "    b = .07*1.25\n",
    "    c = 1\n",
    "    d = .03 \n",
    "    e = .04 \n",
    "    f = .05 \n",
    "    g = .025 * 1.25\n",
    "    Dm = .01\n",
    "    Dc = 10\n",
    "    Dm2 = .1\n",
    "    n = n\n",
    "\n",
    "    p = [a, b, c, d, e, f, g, Dm, Dc, Dm2, n, Ax, Ay, dummy]\n",
    "    return p, r0\n",
    "end"
   ]
  },
  {
   "cell_type": "code",
   "execution_count": null,
   "metadata": {},
   "outputs": [],
   "source": [
    "function nonegativeFB!(dr,r,p,t)\n",
    "    a, b, c, d, e, f, g, Dm, Dc, Dm2, n, Ax, Ay, dummy = p\n",
    "    Ayt, tAx, D42t, D42d, Dpak, Dgef, Dpakc, Dgefc, R = dummy\n",
    "    # Window variables\n",
    "    rhoT = @view r[:,:,1]\n",
    "    rhoD = @view r[:,:,2]\n",
    "    pak = @view r[:,:,3]\n",
    "    gef = @view r[:,:,4]\n",
    "    pakc = @view r[:,:,5]\n",
    "    gefc = @view r[:,:,6]\n",
    "    # Calculate diffusion\n",
    "    mul!(Ayt,Ay,rhoT)\n",
    "    mul!(tAx,rhoT,Ax)\n",
    "    @. D42t = Dm*(Ayt + tAx)\n",
    "    mul!(Ayt,Ay,rhoD)\n",
    "    mul!(tAx,rhoD,Ax)\n",
    "    @. D42d = Dc*(Ayt + tAx)\n",
    "    mul!(Ayt,Ay,pak)\n",
    "    mul!(tAx,pak,Ax)\n",
    "    @. Dpak = Dm2*(Ayt + tAx)\n",
    "    mul!(Ayt,Ay,gef)\n",
    "    mul!(tAx,gef,Ax)\n",
    "    @. Dgef = Dm*(Ayt + tAx)\n",
    "    mul!(Ayt,Ay,pakc)\n",
    "    mul!(tAx,pakc,Ax)\n",
    "    @. Dpakc = Dc*(Ayt + tAx)\n",
    "    mul!(Ayt,Ay,gefc)\n",
    "    mul!(tAx,gefc,Ax)\n",
    "    @. Dgefc = Dc*(Ayt + tAx)\n",
    "    # Calculate reactions, add diffusion\n",
    "    @. R = (a*gef^2*rhoD) - b*rhoT\n",
    "    @. dr[:,:,1] = R + D42t\n",
    "    @. dr[:,:,2] = -R*n + D42d\n",
    "    #@. dr[:,:,3] = d*rhoT*pakc - e*pak + Dpak\n",
    "    @. dr[:,:,4] = f*rhoT*gefc - g*gef + Dgef # removed pak dependence\n",
    "    #@. dr[:,:,5] = n*(- d*rhoT*pakc + e*pak) + Dpakc\n",
    "    @. dr[:,:,6] = n*(- f*rhoT*gefc + g*gef) + Dgefc # removed pak dependence\n",
    "end\n"
   ]
  },
  {
   "cell_type": "code",
   "execution_count": null,
   "metadata": {},
   "outputs": [],
   "source": [
    "function run_pde(radius)\n",
    "    p, r0 = setup(radius)\n",
    "    min_prob = ODEProblem(nonegativeFB!,r0,(0.0,600),p)\n",
    "    sol_simp = solve(min_prob,CVODE_BDF(linear_solver = :GMRES), saveat=1)#, abstol = 1e-8, reltol = 1e-5 ,saveat=1)\n",
    "    return sol_simp\n",
    "end"
   ]
  },
  {
   "cell_type": "code",
   "execution_count": null,
   "metadata": {},
   "outputs": [],
   "source": [
    "Random.seed!(1)\n",
    "sol3noneg = run_pde(3)"
   ]
  },
  {
   "cell_type": "code",
   "execution_count": null,
   "metadata": {},
   "outputs": [],
   "source": [
    "Random.seed!(3)\n",
    "sol5noneg = run_pde(5)"
   ]
  },
  {
   "cell_type": "code",
   "execution_count": null,
   "metadata": {},
   "outputs": [],
   "source": []
  }
 ],
 "metadata": {
  "language_info": {
   "name": "python"
  }
 },
 "nbformat": 4,
 "nbformat_minor": 2
}
